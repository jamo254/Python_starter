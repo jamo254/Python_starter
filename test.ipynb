{
 "cells": [
  {
   "cell_type": "markdown",
   "metadata": {},
   "source": [
    "## Finding the Maximum Number in a List\n",
    "- Problem: Given a list of numbers, find the maximum number.\n"
   ]
  },
  {
   "cell_type": "code",
   "execution_count": 1,
   "metadata": {},
   "outputs": [
    {
     "name": "stdout",
     "output_type": "stream",
     "text": [
      "The maximum number of numbers: 300\n"
     ]
    }
   ],
   "source": [
    "def find_max(numbers):\n",
    "    if not numbers:\n",
    "        return None # Handle the case where numbers\n",
    "    max_num = numbers[0]\n",
    "    for num in numbers:\n",
    "        if num > max_num:\n",
    "            max_num = num\n",
    "    return max_num\n",
    "\n",
    "#Usage\n",
    "numbers = [4, 5, 6, 129, 300]\n",
    "max_num = find_max(numbers)\n",
    "print(\"The maximum number of numbers:\", max_num)"
   ]
  },
  {
   "cell_type": "markdown",
   "metadata": {},
   "source": [
    "## Reversing a String\n",
    "\n",
    "- Problem: Reverse a given string.\n",
    "  slice + index"
   ]
  },
  {
   "cell_type": "code",
   "execution_count": 4,
   "metadata": {},
   "outputs": [
    {
     "name": "stdout",
     "output_type": "stream",
     "text": [
      "Reversed sting:  gnirts nevig a esreveR melborP\n"
     ]
    }
   ],
   "source": [
    "def reversed_string(input_string):\n",
    "    return input_string[::-1]\n",
    "\n",
    "\n",
    "# Usage\n",
    "text = \"Problem Reverse a given string\"\n",
    "reversed_text = reversed_string(text)\n",
    "print(\"Reversed sting: \", reversed_text)\n"
   ]
  },
  {
   "cell_type": "markdown",
   "metadata": {},
   "source": [
    "## Counting the Occurrences of a Character in a String\n",
    "\n",
    "- Problem: Count how many times a given character appears in a string."
   ]
  },
  {
   "cell_type": "markdown",
   "metadata": {},
   "source": [
    "## FizzBuzz\n",
    "\n",
    "Problem: Print the numbers from 1 to 100. But for multiples of 3, print \"Fizz\" instead of the number, and for multiples of 5, print \"Buzz.\" For numbers that are multiples of both 3 and 5, print \"FizzBuzz.\""
   ]
  },
  {
   "cell_type": "markdown",
   "metadata": {},
   "source": []
  },
  {
   "cell_type": "markdown",
   "metadata": {},
   "source": [
    "## Finding the Factorial of a Number\n",
    "\n",
    "- Problem: Calculate the factorial of a given non-negative integer n, denoted as n!. The factorial of a number is the product of all positive integers from 1 to n."
   ]
  },
  {
   "cell_type": "code",
   "execution_count": 8,
   "metadata": {},
   "outputs": [
    {
     "name": "stdout",
     "output_type": "stream",
     "text": [
      "8 = 40320\n"
     ]
    }
   ],
   "source": [
    "def factorial(n):\n",
    "    if n == 0:\n",
    "        return 1\n",
    "    result = 1\n",
    "    for i in range(1, n+1):\n",
    "        result *= i\n",
    "    return result\n",
    "\n",
    "#Usage\n",
    "num = 8\n",
    "fact = factorial(num)\n",
    "print(f\"{num} = {fact}\")"
   ]
  },
  {
   "cell_type": "markdown",
   "metadata": {},
   "source": [
    "## Checking for Palindromes\n",
    "\n",
    "- Problem: Determine whether a given string is a palindrome, which means it reads the same forwards and backward."
   ]
  },
  {
   "cell_type": "code",
   "execution_count": 15,
   "metadata": {},
   "outputs": [
    {
     "name": "stdout",
     "output_type": "stream",
     "text": [
      "'levell' is not a palindrome.\n"
     ]
    }
   ],
   "source": [
    "def is_palindrome(text):\n",
    "    text = text.lower() # Covert to lower case\n",
    "    clean_text = ''.join(char for char  in text if char.isalnum()) #remove the non-alphnumeric characters\n",
    "    return clean_text[::-1]\n",
    "\n",
    "# Example usage:\n",
    "word = \"levell\"\n",
    "if word == is_palindrome(word):\n",
    "    print(f\"'{word}' is a palindrome\")\n",
    "else:\n",
    "    print(f\"'{word}' is not a palindrome.\")\n"
   ]
  },
  {
   "cell_type": "markdown",
   "metadata": {},
   "source": [
    "<center>Homework</center>"
   ]
  },
  {
   "cell_type": "markdown",
   "metadata": {},
   "source": [
    "## Binary Search\n",
    "\n",
    "- Problem: Implement a binary search algorithm to find the index of a target element in a sorted list."
   ]
  },
  {
   "cell_type": "code",
   "execution_count": null,
   "metadata": {},
   "outputs": [],
   "source": []
  },
  {
   "cell_type": "markdown",
   "metadata": {},
   "source": [
    "## Fibonacci Sequence\n",
    "\n",
    "Problem: Generate the Fibonacci sequence up to the nth term.\n",
    "\n"
   ]
  },
  {
   "cell_type": "code",
   "execution_count": null,
   "metadata": {},
   "outputs": [],
   "source": []
  },
  {
   "cell_type": "markdown",
   "metadata": {},
   "source": [
    "## Sum of Digits of a Number\n",
    "\n",
    "Problem: Calculate the sum of the digits of a given positive integer."
   ]
  },
  {
   "cell_type": "code",
   "execution_count": null,
   "metadata": {},
   "outputs": [],
   "source": []
  },
  {
   "cell_type": "markdown",
   "metadata": {},
   "source": [
    "## Finding the Second Largest Number in a List\n",
    "\n",
    "- Problem: Find the second-largest number in a list of numbers."
   ]
  }
 ],
 "metadata": {
  "interpreter": {
   "hash": "aee8b7b246df8f9039afb4144a1f6fd8d2ca17a180786b69acc140d282b71a49"
  },
  "kernelspec": {
   "display_name": "Python 3.11.1 64-bit",
   "language": "python",
   "name": "python3"
  },
  "language_info": {
   "codemirror_mode": {
    "name": "ipython",
    "version": 3
   },
   "file_extension": ".py",
   "mimetype": "text/x-python",
   "name": "python",
   "nbconvert_exporter": "python",
   "pygments_lexer": "ipython3",
   "version": "3.11.1"
  },
  "orig_nbformat": 4
 },
 "nbformat": 4,
 "nbformat_minor": 2
}
